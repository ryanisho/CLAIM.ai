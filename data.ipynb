{
 "cells": [
  {
   "cell_type": "code",
   "execution_count": 4,
   "metadata": {},
   "outputs": [],
   "source": [
    "import pandas as pd\n",
    "from sodapy import Socrata"
   ]
  },
  {
   "cell_type": "code",
   "execution_count": 35,
   "id": "fab03ca2",
   "metadata": {},
   "outputs": [],
   "source": [
    "#import data from nyc health\n",
    "app_token = \"a97XlhbCkD3pHfQVizqFCTdVX\"\n",
    "client = Socrata(\"health.data.ny.gov\", app_token)\n",
    "nys_data = client.get(\"7dtz-qxmr\", limit=10000, select=\"apr_severity_of_illness_code, \\\n",
    "                     apr_drg_description, apr_medical_surgical_code, mean_charge, median_charge, mean_cost, \\\n",
    "                      median_cost\")\n",
    "#apr_sevrerity_of_illness_code are 1 for minor, 2 for moderate, 3 for major, and 4 for extreme\n",
    "#apr_medical_surgical_code are M for medical, S for surgical, and NA for other"
   ]
  },
  {
   "cell_type": "code",
   "execution_count": 36,
   "id": "7f412a16",
   "metadata": {},
   "outputs": [],
   "source": [
    "nys_data_df = pd.DataFrame.from_records(nys_data)"
   ]
  },
  {
   "cell_type": "code",
   "execution_count": 37,
   "id": "8d6e020e",
   "metadata": {},
   "outputs": [
    {
     "data": {
      "text/html": [
       "<div>\n",
       "<style scoped>\n",
       "    .dataframe tbody tr th:only-of-type {\n",
       "        vertical-align: middle;\n",
       "    }\n",
       "\n",
       "    .dataframe tbody tr th {\n",
       "        vertical-align: top;\n",
       "    }\n",
       "\n",
       "    .dataframe thead th {\n",
       "        text-align: right;\n",
       "    }\n",
       "</style>\n",
       "<table border=\"1\" class=\"dataframe\">\n",
       "  <thead>\n",
       "    <tr style=\"text-align: right;\">\n",
       "      <th></th>\n",
       "      <th>apr_severity_of_illness_code</th>\n",
       "      <th>apr_drg_description</th>\n",
       "      <th>apr_medical_surgical_code</th>\n",
       "      <th>mean_charge</th>\n",
       "      <th>median_charge</th>\n",
       "      <th>mean_cost</th>\n",
       "      <th>median_cost</th>\n",
       "    </tr>\n",
       "  </thead>\n",
       "  <tbody>\n",
       "    <tr>\n",
       "      <th>9995</th>\n",
       "      <td>4</td>\n",
       "      <td>Osteomyelitis, Septic Arthritis &amp; Other Muscul...</td>\n",
       "      <td>M</td>\n",
       "      <td>125918.34</td>\n",
       "      <td>121066.76</td>\n",
       "      <td>65487.61</td>\n",
       "      <td>62964.4</td>\n",
       "    </tr>\n",
       "    <tr>\n",
       "      <th>9996</th>\n",
       "      <td>1</td>\n",
       "      <td>Connective Tissue Disorders</td>\n",
       "      <td>M</td>\n",
       "      <td>58138.92</td>\n",
       "      <td>58138.92</td>\n",
       "      <td>30236.89</td>\n",
       "      <td>30236.89</td>\n",
       "    </tr>\n",
       "    <tr>\n",
       "      <th>9997</th>\n",
       "      <td>3</td>\n",
       "      <td>Connective Tissue Disorders</td>\n",
       "      <td>M</td>\n",
       "      <td>131222.01</td>\n",
       "      <td>94101.79</td>\n",
       "      <td>68245.94</td>\n",
       "      <td>48940.46</td>\n",
       "    </tr>\n",
       "    <tr>\n",
       "      <th>9998</th>\n",
       "      <td>4</td>\n",
       "      <td>Connective Tissue Disorders</td>\n",
       "      <td>M</td>\n",
       "      <td>114224.14</td>\n",
       "      <td>114224.14</td>\n",
       "      <td>59405.69</td>\n",
       "      <td>59405.69</td>\n",
       "    </tr>\n",
       "    <tr>\n",
       "      <th>9999</th>\n",
       "      <td>3</td>\n",
       "      <td>Malfunction, Reaction, Complic Of Orthopedic D...</td>\n",
       "      <td>M</td>\n",
       "      <td>45010.15</td>\n",
       "      <td>45010.15</td>\n",
       "      <td>23408.88</td>\n",
       "      <td>23408.88</td>\n",
       "    </tr>\n",
       "  </tbody>\n",
       "</table>\n",
       "</div>"
      ],
      "text/plain": [
       "     apr_severity_of_illness_code  \\\n",
       "9995                            4   \n",
       "9996                            1   \n",
       "9997                            3   \n",
       "9998                            4   \n",
       "9999                            3   \n",
       "\n",
       "                                    apr_drg_description  \\\n",
       "9995  Osteomyelitis, Septic Arthritis & Other Muscul...   \n",
       "9996                        Connective Tissue Disorders   \n",
       "9997                        Connective Tissue Disorders   \n",
       "9998                        Connective Tissue Disorders   \n",
       "9999  Malfunction, Reaction, Complic Of Orthopedic D...   \n",
       "\n",
       "     apr_medical_surgical_code mean_charge median_charge mean_cost median_cost  \n",
       "9995                         M   125918.34     121066.76  65487.61     62964.4  \n",
       "9996                         M    58138.92      58138.92  30236.89    30236.89  \n",
       "9997                         M   131222.01      94101.79  68245.94    48940.46  \n",
       "9998                         M   114224.14     114224.14  59405.69    59405.69  \n",
       "9999                         M    45010.15      45010.15  23408.88    23408.88  "
      ]
     },
     "execution_count": 37,
     "metadata": {},
     "output_type": "execute_result"
    }
   ],
   "source": [
    "nys_data_df.tail()"
   ]
  },
  {
   "cell_type": "code",
   "execution_count": null,
   "id": "55113ddc",
   "metadata": {},
   "outputs": [],
   "source": []
  }
 ],
 "metadata": {
  "kernelspec": {
   "display_name": "base",
   "language": "python",
   "name": "python3"
  },
  "language_info": {
   "codemirror_mode": {
    "name": "ipython",
    "version": 3
   },
   "file_extension": ".py",
   "mimetype": "text/x-python",
   "name": "python",
   "nbconvert_exporter": "python",
   "pygments_lexer": "ipython3",
   "version": "3.8.8"
  }
 },
 "nbformat": 4,
 "nbformat_minor": 5
}
