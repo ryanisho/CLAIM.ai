{
 "cells": [
  {
   "cell_type": "code",
   "execution_count": 41,
   "metadata": {},
   "outputs": [],
   "source": [
    "import pandas as pd\n",
    "from sodapy import Socrata\n",
    "import private"
   ]
  },
  {
   "cell_type": "code",
   "execution_count": 42,
   "id": "fab03ca2",
   "metadata": {},
   "outputs": [],
   "source": [
    "#import data from nyc health\n",
    "client = Socrata(\"health.data.ny.gov\", private.app_token)\n",
    "nys_data = client.get(\"7dtz-qxmr\", limit=1000000, select=\"apr_severity_of_illness_code, \\\n",
    "                     apr_drg_description, apr_medical_surgical_code, mean_charge, median_charge, mean_cost, \\\n",
    "                      median_cost\")\n",
    "#apr_sevrerity_of_illness_code are 1 for minor, 2 for moderate, 3 for major, and 4 for extreme\n",
    "#apr_medical_surgical_code are M for medical, S for surgical, and NA for other"
   ]
  },
  {
   "cell_type": "code",
   "execution_count": 43,
   "id": "7f412a16",
   "metadata": {},
   "outputs": [],
   "source": [
    "nys_data_df = pd.DataFrame.from_records(nys_data)"
   ]
  },
  {
   "cell_type": "code",
   "execution_count": 44,
   "id": "8d6e020e",
   "metadata": {},
   "outputs": [
    {
     "data": {
      "text/html": [
       "<div>\n",
       "<style scoped>\n",
       "    .dataframe tbody tr th:only-of-type {\n",
       "        vertical-align: middle;\n",
       "    }\n",
       "\n",
       "    .dataframe tbody tr th {\n",
       "        vertical-align: top;\n",
       "    }\n",
       "\n",
       "    .dataframe thead th {\n",
       "        text-align: right;\n",
       "    }\n",
       "</style>\n",
       "<table border=\"1\" class=\"dataframe\">\n",
       "  <thead>\n",
       "    <tr style=\"text-align: right;\">\n",
       "      <th></th>\n",
       "      <th>apr_severity_of_illness_code</th>\n",
       "      <th>apr_drg_description</th>\n",
       "      <th>apr_medical_surgical_code</th>\n",
       "      <th>mean_charge</th>\n",
       "      <th>median_charge</th>\n",
       "      <th>mean_cost</th>\n",
       "      <th>median_cost</th>\n",
       "    </tr>\n",
       "  </thead>\n",
       "  <tbody>\n",
       "    <tr>\n",
       "      <th>999995</th>\n",
       "      <td>1</td>\n",
       "      <td>Cardiac arrhythmia &amp; conduction disorders</td>\n",
       "      <td>M</td>\n",
       "      <td>28803.6</td>\n",
       "      <td>23453</td>\n",
       "      <td>5461.8787704</td>\n",
       "      <td>4369.6688441</td>\n",
       "    </tr>\n",
       "    <tr>\n",
       "      <th>999996</th>\n",
       "      <td>2</td>\n",
       "      <td>Cardiac arrhythmia &amp; conduction disorders</td>\n",
       "      <td>M</td>\n",
       "      <td>31931.76</td>\n",
       "      <td>27440</td>\n",
       "      <td>6401.3013379</td>\n",
       "      <td>5388.698269</td>\n",
       "    </tr>\n",
       "    <tr>\n",
       "      <th>999997</th>\n",
       "      <td>3</td>\n",
       "      <td>Cardiac arrhythmia &amp; conduction disorders</td>\n",
       "      <td>M</td>\n",
       "      <td>63495.42</td>\n",
       "      <td>45400.5</td>\n",
       "      <td>13408.311494</td>\n",
       "      <td>8769.6333835</td>\n",
       "    </tr>\n",
       "    <tr>\n",
       "      <th>999998</th>\n",
       "      <td>4</td>\n",
       "      <td>Cardiac arrhythmia &amp; conduction disorders</td>\n",
       "      <td>M</td>\n",
       "      <td>94362.51</td>\n",
       "      <td>94362.51</td>\n",
       "      <td>18755.710778</td>\n",
       "      <td>18755.710778</td>\n",
       "    </tr>\n",
       "    <tr>\n",
       "      <th>999999</th>\n",
       "      <td>1</td>\n",
       "      <td>Cardiac arrhythmia &amp; conduction disorders</td>\n",
       "      <td>M</td>\n",
       "      <td>34803.77</td>\n",
       "      <td>34803.77</td>\n",
       "      <td>19233.400124</td>\n",
       "      <td>19233.400124</td>\n",
       "    </tr>\n",
       "  </tbody>\n",
       "</table>\n",
       "</div>"
      ],
      "text/plain": [
       "       apr_severity_of_illness_code  \\\n",
       "999995                            1   \n",
       "999996                            2   \n",
       "999997                            3   \n",
       "999998                            4   \n",
       "999999                            1   \n",
       "\n",
       "                              apr_drg_description apr_medical_surgical_code  \\\n",
       "999995  Cardiac arrhythmia & conduction disorders                         M   \n",
       "999996  Cardiac arrhythmia & conduction disorders                         M   \n",
       "999997  Cardiac arrhythmia & conduction disorders                         M   \n",
       "999998  Cardiac arrhythmia & conduction disorders                         M   \n",
       "999999  Cardiac arrhythmia & conduction disorders                         M   \n",
       "\n",
       "       mean_charge median_charge     mean_cost   median_cost  \n",
       "999995     28803.6         23453  5461.8787704  4369.6688441  \n",
       "999996    31931.76         27440  6401.3013379   5388.698269  \n",
       "999997    63495.42       45400.5  13408.311494  8769.6333835  \n",
       "999998    94362.51      94362.51  18755.710778  18755.710778  \n",
       "999999    34803.77      34803.77  19233.400124  19233.400124  "
      ]
     },
     "execution_count": 44,
     "metadata": {},
     "output_type": "execute_result"
    }
   ],
   "source": [
    "nys_data_df.tail()"
   ]
  },
  {
   "cell_type": "code",
   "execution_count": null,
   "id": "55113ddc",
   "metadata": {},
   "outputs": [],
   "source": []
  }
 ],
 "metadata": {
  "kernelspec": {
   "display_name": "base",
   "language": "python",
   "name": "python3"
  },
  "language_info": {
   "codemirror_mode": {
    "name": "ipython",
    "version": 3
   },
   "file_extension": ".py",
   "mimetype": "text/x-python",
   "name": "python",
   "nbconvert_exporter": "python",
   "pygments_lexer": "ipython3",
   "version": "3.8.8"
  }
 },
 "nbformat": 4,
 "nbformat_minor": 5
}
